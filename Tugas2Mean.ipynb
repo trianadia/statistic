{
  "nbformat": 4,
  "nbformat_minor": 0,
  "metadata": {
    "colab": {
      "provenance": [],
      "authorship_tag": "ABX9TyOkgs/AB5aqGjRzxenb8Zbu",
      "include_colab_link": true
    },
    "kernelspec": {
      "name": "python3",
      "display_name": "Python 3"
    },
    "language_info": {
      "name": "python"
    }
  },
  "cells": [
    {
      "cell_type": "markdown",
      "metadata": {
        "id": "view-in-github",
        "colab_type": "text"
      },
      "source": [
        "<a href=\"https://colab.research.google.com/github/trianadia/statistic/blob/main/Tugas2Mean.ipynb\" target=\"_parent\"><img src=\"https://colab.research.google.com/assets/colab-badge.svg\" alt=\"Open In Colab\"/></a>"
      ]
    },
    {
      "cell_type": "code",
      "execution_count": 2,
      "metadata": {
        "colab": {
          "base_uri": "https://localhost:8080/"
        },
        "id": "gkLnjGkaNfc5",
        "outputId": "61b61033-bfc8-472f-c817-f68a8e6d2105"
      },
      "outputs": [
        {
          "output_type": "stream",
          "name": "stdout",
          "text": [
            "Rata-rata berat badan = 103.13333333333334\n"
          ]
        }
      ],
      "source": [
        "# Algoritma MeanData (Data Tidak Dikelompokkan)\n",
        "\n",
        "# Implementasi algoritma MeanData\n",
        "def MeanData(x):\n",
        "    n = len(x)           # banyak data\n",
        "    jumlah = 0           # inisialisasi jumlah\n",
        "    for i in range(n):   # loop menjumlahkan semua data\n",
        "        jumlah += x[i]\n",
        "    mean = jumlah / n    # rumus mean\n",
        "    return mean\n",
        "\n",
        "# Data berat badan orang dewasa (kg)\n",
        "data = [\n",
        "    128, 63, 97, 134, 133, 136, 125, 110, 118, 94,\n",
        "    76, 84, 132, 105, 80, 87, 100, 77, 120, 109,\n",
        "    90, 72, 103, 78, 94, 118, 117, 80, 140, 94\n",
        "]\n",
        "\n",
        "# Hitung rata-rata\n",
        "rata_rata = MeanData(data)\n",
        "print(\"Rata-rata berat badan =\", rata_rata)\n"
      ]
    },
    {
      "cell_type": "code",
      "source": [
        "import csv\n",
        "\n",
        "# Fungsi algoritma MeanData\n",
        "def MeanData(x):\n",
        "    n = len(x)\n",
        "    jumlah = 0\n",
        "    for i in range(n):\n",
        "        jumlah += x[i]\n",
        "    mean = jumlah / n\n",
        "    return mean\n",
        "\n",
        "# Baca file CSV\n",
        "path = \"/content/top2022.csv\"\n",
        "data = []\n",
        "\n",
        "with open(path, newline='', encoding='utf-8') as csvfile:\n",
        "    reader = csv.DictReader(csvfile)\n",
        "    for row in reader:\n",
        "        # Ambil kolom \"Nilai.Total\"\n",
        "        if row['Nilai.Total']:   # pastikan tidak kosong\n",
        "            data.append(float(row['Nilai.Total']))\n",
        "\n",
        "# Hitung rata-rata Nilai.Total\n",
        "rata_rata = MeanData(data)\n",
        "print(\"Rata-rata Nilai.Total =\", rata_rata)\n"
      ],
      "metadata": {
        "colab": {
          "base_uri": "https://localhost:8080/"
        },
        "id": "4AFlOBHxNias",
        "outputId": "c2bf11ea-ea9b-4170-8eb8-ba50c8822d95"
      },
      "execution_count": 4,
      "outputs": [
        {
          "output_type": "stream",
          "name": "stdout",
          "text": [
            "Rata-rata Nilai.Total = 540.848641\n"
          ]
        }
      ]
    }
  ]
}