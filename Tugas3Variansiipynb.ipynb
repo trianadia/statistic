{
  "nbformat": 4,
  "nbformat_minor": 0,
  "metadata": {
    "colab": {
      "provenance": [],
      "authorship_tag": "ABX9TyPtzUI409myBxV8uh6p2ayh",
      "include_colab_link": true
    },
    "kernelspec": {
      "name": "python3",
      "display_name": "Python 3"
    },
    "language_info": {
      "name": "python"
    }
  },
  "cells": [
    {
      "cell_type": "markdown",
      "metadata": {
        "id": "view-in-github",
        "colab_type": "text"
      },
      "source": [
        "<a href=\"https://colab.research.google.com/github/trianadia/statistic/blob/main/Tugas3Variansiipynb.ipynb\" target=\"_parent\"><img src=\"https://colab.research.google.com/assets/colab-badge.svg\" alt=\"Open In Colab\"/></a>"
      ]
    },
    {
      "cell_type": "markdown",
      "source": [
        "###TUGAS 3"
      ],
      "metadata": {
        "id": "Gxh6LRDOdhaF"
      }
    },
    {
      "cell_type": "code",
      "execution_count": 3,
      "metadata": {
        "colab": {
          "base_uri": "https://localhost:8080/"
        },
        "id": "kbPn-jRldIf-",
        "outputId": "90c9c9a6-fe6a-4e46-e88d-a55daad4a1f7"
      },
      "outputs": [
        {
          "output_type": "stream",
          "name": "stdout",
          "text": [
            "Nilai Variansi: 478.30253623188395\n",
            "Nilai Standar Deviasi: 21.870128857230906\n"
          ]
        }
      ],
      "source": [
        "import math\n",
        "\n",
        "def MeanData(data):\n",
        "    return sum(data) / len(data)\n",
        "\n",
        "def VariansiData(data):\n",
        "    mean = MeanData(data)\n",
        "    jumlah = 0\n",
        "    for i in range(len(data)):\n",
        "        jumlah += (data[i] - mean) ** 2\n",
        "    variansi = jumlah / (len(data) - 1)  # Variansi untuk data tidak dikelompokkan\n",
        "    return variansi\n",
        "\n",
        "def StandarDeviasiData(data):\n",
        "    variansi = VariansiData(data)\n",
        "    return math.sqrt(variansi)\n",
        "\n",
        "# Data berat badan orang dewasa (kg)\n",
        "data = [128, 63, 97, 134, 133, 126, 120, 118, 94,\n",
        "        76, 84, 132, 105, 122, 114, 125, 110,\n",
        "        90, 72, 103, 78, 136, 125, 100]\n",
        "\n",
        "varian = VariansiData(data)\n",
        "standar_deviasi = StandarDeviasiData(data)\n",
        "\n",
        "print(\"Nilai Variansi:\", varian)\n",
        "print(\"Nilai Standar Deviasi:\", standar_deviasi)\n"
      ]
    },
    {
      "cell_type": "code",
      "source": [
        "import csv\n",
        "import math\n",
        "\n",
        "def MeanData(data):\n",
        "    return sum(data) / len(data)\n",
        "\n",
        "def VariansiData(data):\n",
        "    mean = MeanData(data)\n",
        "    jumlah = 0\n",
        "    for i in range(len(data)):\n",
        "        jumlah += (data[i] - mean) ** 2\n",
        "    variansi = jumlah / (len(data) - 1)  # Variansi data tidak dikelompokkan\n",
        "    return variansi\n",
        "\n",
        "def StandarDeviasiData(data):\n",
        "    variansi = VariansiData(data)\n",
        "    return math.sqrt(variansi)\n",
        "\n",
        "# Membaca data dari file CSV\n",
        "file_path = '/content/top2022.csv'\n",
        "data = []\n",
        "\n",
        "with open(file_path, newline='', encoding='utf-8') as csvfile:\n",
        "    reader = csv.reader(csvfile)\n",
        "    next(reader)  # Lewatkan header jika ada\n",
        "    for row in reader:\n",
        "        # Asumsikan data yang dihitung ada di kolom pertama dan bertipe numerik\n",
        "        nilai = float(row[0])\n",
        "        data.append(nilai)\n",
        "\n",
        "# Hitung variansi dan standar deviasi\n",
        "varian = VariansiData(data)\n",
        "standar_deviasi = StandarDeviasiData(data)\n",
        "\n",
        "print(\"Nilai Variansi:\", varian)\n",
        "print(\"Nilai Standar Deviasi:\", standar_deviasi)\n"
      ],
      "metadata": {
        "colab": {
          "base_uri": "https://localhost:8080/"
        },
        "id": "BNdyoOJMdmIK",
        "outputId": "88eeabb6-4818-4cd3-c0d3-a8dec1810804"
      },
      "execution_count": 4,
      "outputs": [
        {
          "output_type": "stream",
          "name": "stdout",
          "text": [
            "Nilai Variansi: 83416.66666666667\n",
            "Nilai Standar Deviasi: 288.8194360957494\n"
          ]
        }
      ]
    }
  ]
}